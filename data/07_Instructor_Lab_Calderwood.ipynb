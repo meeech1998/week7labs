{
 "cells": [
  {
   "cell_type": "markdown",
   "id": "2afa9fea-ee14-46fc-bcb2-e933bba46055",
   "metadata": {},
   "source": [
    "# Week 7: Instructor-led Lab – Data Manipulation\n",
    "### Course: Graduate Introduction to Python\n",
    "### Name: Michelle Calderwood\n",
    "### Date: 4-8-25"
   ]
  },
  {
   "cell_type": "markdown",
   "id": "94d6e361-dd7a-49ef-b373-3d2d326bb416",
   "metadata": {},
   "source": [
    "#### Setup"
   ]
  },
  {
   "cell_type": "code",
   "execution_count": 19,
   "id": "8a63ae73-1454-41ab-84e9-31d58467c1be",
   "metadata": {},
   "outputs": [],
   "source": [
    "import os\n",
    "import pandas as pd"
   ]
  },
  {
   "cell_type": "markdown",
   "id": "1922e33e-a411-48b2-88c0-7a1a0a4b042e",
   "metadata": {},
   "source": [
    "#### Set working directory"
   ]
  },
  {
   "cell_type": "code",
   "execution_count": 72,
   "id": "f3f3f47c-5ceb-4872-b96e-5711e74a691b",
   "metadata": {},
   "outputs": [],
   "source": [
    "os.chdir(\"/Users/michellecalderwood/Documents/GitHub/week7labs/data\")"
   ]
  },
  {
   "cell_type": "markdown",
   "id": "b547af9d-5250-46d9-a4cf-48b38c043a71",
   "metadata": {},
   "source": [
    "#### Accessing Data"
   ]
  },
  {
   "cell_type": "code",
   "execution_count": 23,
   "id": "73c495bc-53f8-4d19-b612-464affcc3c9a",
   "metadata": {},
   "outputs": [],
   "source": [
    "github_teams = pd.read_csv(\"github_teams.csv\")"
   ]
  },
  {
   "cell_type": "markdown",
   "id": "5418f93d-0280-42b2-a336-fb86b43d1156",
   "metadata": {},
   "source": [
    "#### View column names"
   ]
  },
  {
   "cell_type": "code",
   "execution_count": 25,
   "id": "ba0c1b42-b332-4bef-a369-b203094ce295",
   "metadata": {},
   "outputs": [
    {
     "data": {
      "text/plain": [
       "Index(['name_h', 'Team_type', 'Team_size_class', 'human_members_count',\n",
       "       'bot_members_count', 'human_work', 'work_per_human', 'human_gini',\n",
       "       'human_Push', 'human_IssueComments', 'human_PRReviewComment',\n",
       "       'human_MergedPR', 'bot_work', 'bot_Push', 'bot_IssueComments',\n",
       "       'bot_PRReviewComment', 'bot_MergedPR', 'eval_survival_day_median',\n",
       "       'issues_count'],\n",
       "      dtype='object')"
      ]
     },
     "execution_count": 25,
     "metadata": {},
     "output_type": "execute_result"
    }
   ],
   "source": [
    "github_teams.columns"
   ]
  },
  {
   "cell_type": "markdown",
   "id": "fc9aaca7-2057-4392-aedb-f70f9a92a152",
   "metadata": {},
   "source": [
    "#### Number of columns"
   ]
  },
  {
   "cell_type": "code",
   "execution_count": 27,
   "id": "5cd41c6c-7d3a-4aa8-8f2f-a20a046b35d4",
   "metadata": {},
   "outputs": [],
   "source": [
    "\n",
    "num_cols = github_teams.shape[1]"
   ]
  },
  {
   "cell_type": "markdown",
   "id": "67568cd0-39b3-4d8f-bc72-f525a8679300",
   "metadata": {},
   "source": [
    "#### Number of rows"
   ]
  },
  {
   "cell_type": "code",
   "execution_count": 29,
   "id": "4d91c237-ea70-4e74-a466-155c7f88c63c",
   "metadata": {},
   "outputs": [],
   "source": [
    "num_rows = github_teams.shape[0]"
   ]
  },
  {
   "cell_type": "markdown",
   "id": "abb9424f-d980-4863-8a9f-7477cd9434fe",
   "metadata": {},
   "source": [
    "#### Convert object columns to category"
   ]
  },
  {
   "cell_type": "code",
   "execution_count": 31,
   "id": "5dcef189-fb16-400d-b894-09a1b4caf47a",
   "metadata": {},
   "outputs": [],
   "source": [
    "github_teams = github_teams.copy()\n",
    "for col in github_teams.select_dtypes(include='object').columns:\n",
    "    github_teams[col] = github_teams[col].astype('category')"
   ]
  },
  {
   "cell_type": "markdown",
   "id": "12ccfb61-b000-4534-b8cf-c4a13d5075e4",
   "metadata": {},
   "source": [
    "#### Unique values in 'Team_type' and 'Team_size_class'"
   ]
  },
  {
   "cell_type": "code",
   "execution_count": 33,
   "id": "858ae298-045e-4493-8c3a-b84182d4d333",
   "metadata": {},
   "outputs": [],
   "source": [
    "unique_team_type = github_teams['Team_type'].nunique()\n",
    "unique_team_size = github_teams['Team_size_class'].nunique()"
   ]
  },
  {
   "cell_type": "markdown",
   "id": "55425251-440f-4541-9269-0fbdeb7957dd",
   "metadata": {},
   "source": [
    "#### Value at 63rd row, 6th column"
   ]
  },
  {
   "cell_type": "code",
   "execution_count": 35,
   "id": "1289f1a3-b468-409e-a095-4b9d87c0be65",
   "metadata": {},
   "outputs": [],
   "source": [
    "value_63_6 = github_teams.iloc[62, 5]"
   ]
  },
  {
   "cell_type": "markdown",
   "id": "755b3092-118b-490a-9b97-1582e1f51ad5",
   "metadata": {},
   "source": [
    "#### Values for 300th row"
   ]
  },
  {
   "cell_type": "code",
   "execution_count": 37,
   "id": "2ebd6389-00f6-44ac-9300-ab4b793c6aa5",
   "metadata": {},
   "outputs": [],
   "source": [
    "data_300 = github_teams.iloc[299]"
   ]
  },
  {
   "cell_type": "markdown",
   "id": "578f6c94-1683-4ee7-a4c6-8a80edae37e9",
   "metadata": {},
   "source": [
    "#### Index 595 with 1st, 2nd, 3rd columns – three methods"
   ]
  },
  {
   "cell_type": "code",
   "execution_count": 39,
   "id": "13009c83-a5dc-4dc4-827d-dee786719cd8",
   "metadata": {},
   "outputs": [],
   "source": [
    "row_595_method1 = github_teams.iloc[595, [0,1,2]]\n",
    "row_595_method2 = github_teams.loc[595][github_teams.columns[[0,1,2]]]\n",
    "row_595_method3 = github_teams.iloc[[595]][github_teams.columns[:3]]"
   ]
  },
  {
   "cell_type": "markdown",
   "id": "b8a18d74-0bbf-49bc-9544-afe6d7c86e81",
   "metadata": {},
   "source": [
    "#### Index 46 with 3rd and 7th columns – two methods"
   ]
  },
  {
   "cell_type": "code",
   "execution_count": 41,
   "id": "2d7f6dab-2024-4af8-87c9-645bde8ff46f",
   "metadata": {},
   "outputs": [],
   "source": [
    "row_46_method1 = github_teams.iloc[46, [2,6]]\n",
    "row_46_method2 = github_teams.loc[46, [github_teams.columns[2], github_teams.columns[6]]]"
   ]
  },
  {
   "cell_type": "markdown",
   "id": "a74b6913-e9d6-46f2-a690-9e6f3b3f1368",
   "metadata": {},
   "source": [
    "#### Create DataFrame from 'bot_work' – method 2"
   ]
  },
  {
   "cell_type": "code",
   "execution_count": 43,
   "id": "bec44157-8042-42d5-8b57-a2dd540e30f8",
   "metadata": {},
   "outputs": [],
   "source": [
    "df_bot2 = github_teams[['bot_work']].copy()"
   ]
  },
  {
   "cell_type": "markdown",
   "id": "40d4598d-1dc5-4ec5-aca4-24ab8dd7751a",
   "metadata": {},
   "source": [
    "#### Sorting and Ordering Data\n",
    "###### human-bot teams with bot_members_count >= 2"
   ]
  },
  {
   "cell_type": "code",
   "execution_count": 45,
   "id": "e5ba096c-767e-4844-933a-ab9c4f3946f5",
   "metadata": {},
   "outputs": [],
   "source": [
    "subset_1 = github_teams[(github_teams['Team_type'] == 'human-bot') & (github_teams['bot_members_count'] >= 2)]"
   ]
  },
  {
   "cell_type": "markdown",
   "id": "5975696e-a02a-4b3f-90ee-91ffb7f8a5c2",
   "metadata": {},
   "source": [
    "#### human teams that are Large and have human_gini >= 0.75"
   ]
  },
  {
   "cell_type": "code",
   "execution_count": 116,
   "id": "ce6c4aff-632f-4e51-9f33-8b991dc3453e",
   "metadata": {},
   "outputs": [],
   "source": [
    "subset_2 = github_teams[(github_teams['Team_type'] == 'human') & \n",
    "                        (github_teams['Team_size_class'] == 'Large') & \n",
    "                        (github_teams['human_gini'] >= 0.75)]"
   ]
  },
  {
   "cell_type": "markdown",
   "id": "84f54b58-0dff-49d6-8a83-56a1bbb05d84",
   "metadata": {},
   "source": [
    "#### Count of Small or Large teams"
   ]
  },
  {
   "cell_type": "code",
   "execution_count": 49,
   "id": "5d705182-d8c3-40a6-8dcc-8ca2555f48cc",
   "metadata": {},
   "outputs": [],
   "source": [
    "subset_3 = github_teams[github_teams['Team_size_class'].isin(['Small', 'Large'])].shape[0]"
   ]
  },
  {
   "cell_type": "markdown",
   "id": "ccb9fd00-8e83-4b62-938d-13a7c9eb6f52",
   "metadata": {},
   "source": [
    "#### Count of Small or Large teams with human_gini <= 0.20"
   ]
  },
  {
   "cell_type": "code",
   "execution_count": 51,
   "id": "db5030e8-f8bb-4571-a6c1-0b8489988956",
   "metadata": {},
   "outputs": [],
   "source": [
    "subset_4 = github_teams[(github_teams['Team_size_class'].isin(['Small', 'Large'])) &\n",
    "                        (github_teams['human_gini'] <= 0.20)].shape[0]"
   ]
  },
  {
   "cell_type": "markdown",
   "id": "be69c3cc-67ae-4a83-8496-5f4bfcbf5817",
   "metadata": {},
   "source": [
    "#### human-bot teams in Medium category"
   ]
  },
  {
   "cell_type": "code",
   "execution_count": 53,
   "id": "0a5247f7-317d-4bea-a4ed-fae0693ebbcc",
   "metadata": {},
   "outputs": [],
   "source": [
    "subset_5 = github_teams[(github_teams['Team_type'] == 'human-bot') & \n",
    "                        (github_teams['Team_size_class'] == 'Medium')].shape[0]"
   ]
  },
  {
   "cell_type": "markdown",
   "id": "150a3c14-1e9a-4a67-8633-486576d56e5c",
   "metadata": {},
   "source": [
    "#### 50% subsample"
   ]
  },
  {
   "cell_type": "code",
   "execution_count": 55,
   "id": "b9dab137-4ee2-43fb-9758-30d48ac3ba0e",
   "metadata": {},
   "outputs": [],
   "source": [
    "subset_6 = github_teams.sample(frac=0.5, random_state=42)"
   ]
  },
  {
   "cell_type": "markdown",
   "id": "0daa035b-7bd2-4e65-bd43-6d753997c3a1",
   "metadata": {},
   "source": [
    "#### 8-fold cross-validation using sklearn"
   ]
  },
  {
   "cell_type": "code",
   "execution_count": 57,
   "id": "2a03f53c-789c-48e3-a2aa-f8f23c00e8fc",
   "metadata": {},
   "outputs": [],
   "source": [
    "from sklearn.model_selection import KFold\n",
    "kf = KFold(n_splits=8, shuffle=True, random_state=42)\n",
    "kfolds = [(train_idx, test_idx) for train_idx, test_idx in kf.split(github_teams)]"
   ]
  },
  {
   "cell_type": "markdown",
   "id": "7cb682b4-df8c-46a4-ac66-f5e788a01d77",
   "metadata": {},
   "source": [
    "#### Select numeric columns"
   ]
  },
  {
   "cell_type": "code",
   "execution_count": 59,
   "id": "c8d014b5-8d38-4fb5-b134-bc962f59ba03",
   "metadata": {},
   "outputs": [],
   "source": [
    "numeric_df = github_teams.select_dtypes(include='number').copy()"
   ]
  },
  {
   "cell_type": "markdown",
   "id": "ee9a2817-691a-426b-9847-cfcbddc81e07",
   "metadata": {},
   "source": [
    "#### Remove columns"
   ]
  },
  {
   "cell_type": "code",
   "execution_count": 61,
   "id": "ce487718-e2aa-4739-9011-3557a59efe08",
   "metadata": {},
   "outputs": [],
   "source": [
    "numeric_df = numeric_df.drop(['bot_PRReviewComment', 'bot_MergedPR'], axis=1)"
   ]
  },
  {
   "cell_type": "markdown",
   "id": "2e4f7db6-0d1f-4ddd-83a3-8c7a3cec57d1",
   "metadata": {},
   "source": [
    "#### Save specific columns to new DataFrame and rename"
   ]
  },
  {
   "cell_type": "code",
   "execution_count": 63,
   "id": "35a1e2cb-a5b4-4778-8738-d3357415df82",
   "metadata": {},
   "outputs": [],
   "source": [
    "team_df = github_teams[['Team_size_class', 'human_members_count']].copy()\n",
    "team_df.columns = ['TeamSizeCategory', 'HumanMembersCount']"
   ]
  },
  {
   "cell_type": "markdown",
   "id": "d7bbdc95-d446-44ed-8126-b66ec811197e",
   "metadata": {},
   "source": [
    "#### References\n",
    "##### - Instructor video walkthrough (Canvas, Week 7)\n",
    "##### - [pandas documentation](https://pandas.pydata.org/)\n",
    "##### - [scikit-learn KFold](https://scikit-learn.org/stable/modules/generated/sklearn.model_selection.KFold.html)\n",
    "##### - [ChatGPT assistance](07_ChatGPT.ipynb)"
   ]
  }
 ],
 "metadata": {
  "kernelspec": {
   "display_name": "Python [conda env:base] *",
   "language": "python",
   "name": "conda-base-py"
  },
  "language_info": {
   "codemirror_mode": {
    "name": "ipython",
    "version": 3
   },
   "file_extension": ".py",
   "mimetype": "text/x-python",
   "name": "python",
   "nbconvert_exporter": "python",
   "pygments_lexer": "ipython3",
   "version": "3.12.7"
  }
 },
 "nbformat": 4,
 "nbformat_minor": 5
}
