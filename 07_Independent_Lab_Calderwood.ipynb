{
 "cells": [
  {
   "cell_type": "markdown",
   "id": "d1f00421-613c-4540-9efd-5ce29ca16524",
   "metadata": {},
   "source": [
    "# Week 7: Independent Lab – Data Manipulation\n",
    "### Course: Graduate Introduction to Python (BGEN 632 – UM MSBA)\n",
    "### Name: Michelle Calderwood\n",
    "### Date: 4-8-25"
   ]
  },
  {
   "cell_type": "markdown",
   "id": "735f4ed5-f4eb-4685-9724-7cbc12faef6c",
   "metadata": {},
   "source": [
    "#### Setup"
   ]
  },
  {
   "cell_type": "code",
   "execution_count": 99,
   "id": "406dcb4d-ec87-4987-b888-fe1b808016a9",
   "metadata": {},
   "outputs": [],
   "source": [
    "import pandas as pd\n",
    "from datetime import datetime"
   ]
  },
  {
   "cell_type": "markdown",
   "id": "c290b182-e860-49dd-9278-1bf7ef0e3fc3",
   "metadata": {},
   "source": [
    "#### Step 1: Import and Merge Data"
   ]
  },
  {
   "cell_type": "code",
   "execution_count": 102,
   "id": "9c0d4a1b-f96e-4f87-841d-403070b997a6",
   "metadata": {},
   "outputs": [],
   "source": [
    "hospitals = pd.read_csv(\"data/CaliforniaHospitalData.csv\")\n",
    "personnel = pd.read_csv(\"data/CaliforniaHospitalData_Personnel.txt\", delimiter=\"\\t\")\n",
    "\n",
    "merged = pd.merge(hospitals, personnel, on=\"HospitalID\", how=\"inner\")"
   ]
  },
  {
   "cell_type": "markdown",
   "id": "80efdefb-1e33-463a-8baa-976b790ae277",
   "metadata": {},
   "source": [
    "#### Step 2: Drop Unnecessary Columns"
   ]
  },
  {
   "cell_type": "code",
   "execution_count": 104,
   "id": "98eae15e-2282-4fd9-8548-1985f7907d13",
   "metadata": {},
   "outputs": [],
   "source": [
    "drop_cols = ['Work_ID', 'PositionID', 'Website']\n",
    "merged = merged.drop(columns=drop_cols)"
   ]
  },
  {
   "cell_type": "markdown",
   "id": "7d06e88a-ce06-46c5-b63e-f16855dbb230",
   "metadata": {},
   "source": [
    "#### Step 3: Filter, Export, and Save"
   ]
  },
  {
   "cell_type": "markdown",
   "id": "0e25c288-7c75-47e2-a134-342c24370cab",
   "metadata": {},
   "source": [
    "Create Dataset Copy"
   ]
  },
  {
   "cell_type": "code",
   "execution_count": 140,
   "id": "60edd38a-1231-4bd4-9b4c-ddc31a9642e1",
   "metadata": {},
   "outputs": [
    {
     "name": "stdout",
     "output_type": "stream",
     "text": [
      "(61, 22)\n"
     ]
    }
   ],
   "source": [
    "filtered = merged.copy()\n",
    "print(filtered.shape)"
   ]
  },
  {
   "cell_type": "markdown",
   "id": "a1808510-1391-45f6-8b42-03331dfbe623",
   "metadata": {},
   "source": [
    "Export the full dataset"
   ]
  },
  {
   "cell_type": "code",
   "execution_count": 142,
   "id": "990d9a37-32f0-4df7-963b-b241c4572134",
   "metadata": {},
   "outputs": [],
   "source": [
    "filtered.to_csv(\"data/hospital_data_new.txt\", sep=\"\\t\", index=False)"
   ]
  },
  {
   "cell_type": "markdown",
   "id": "7bbf29a3-d84f-495e-9b69-ebc16a1f0e69",
   "metadata": {},
   "source": [
    "Load it back in as hospital_data"
   ]
  },
  {
   "cell_type": "code",
   "execution_count": 144,
   "id": "783071eb-9e0f-4617-8c23-0214f9efca77",
   "metadata": {},
   "outputs": [
    {
     "name": "stdout",
     "output_type": "stream",
     "text": [
      "(61, 22)\n"
     ]
    }
   ],
   "source": [
    "hospital_data = pd.read_csv(\"data/hospital_data_new.txt\", delimiter=\"\\t\")\n",
    "print(hospital_data.shape)  # Confirm it has 61 rows"
   ]
  },
  {
   "cell_type": "markdown",
   "id": "6a934fb6-0b6e-4bca-8c41-f5d91aa7480e",
   "metadata": {},
   "source": [
    "Confirm Rows"
   ]
  },
  {
   "cell_type": "code",
   "execution_count": 155,
   "id": "f537634a-0e77-4275-9c58-71ad77d8ebdf",
   "metadata": {},
   "outputs": [
    {
     "name": "stdout",
     "output_type": "stream",
     "text": [
      "(61, 22)\n"
     ]
    }
   ],
   "source": [
    "print(hospital_data.shape) "
   ]
  },
  {
   "cell_type": "markdown",
   "id": "08fdb8f2-f936-49c3-b7f0-41f618d5d017",
   "metadata": {},
   "source": [
    "#### Step 4: Rename Columns"
   ]
  },
  {
   "cell_type": "code",
   "execution_count": 160,
   "id": "f6466bfd-2392-44b4-82fd-2acd18b261a7",
   "metadata": {},
   "outputs": [],
   "source": [
    "hospital_data = pd.read_csv(\"data/hospital_data_new.txt\", delimiter=\"\\t\")\n",
    "hospital_data = hospital_data.rename(columns={\n",
    "    \"NoFTE\": \"FullTimeCount\",\n",
    "    \"NetPatRev\": \"NetPatientRevenue\",\n",
    "    \"InOperExp\": \"InpatientOperExp\",\n",
    "    \"OutOperExp\": \"OutpatientOperExp\",\n",
    "    \"OperRev\": \"Operating_Revenue\",\n",
    "    \"OperInc\": \"Operating_Income\"\n",
    "})"
   ]
  },
  {
   "cell_type": "markdown",
   "id": "0d2ba87b-a176-496d-a14b-21df077b008e",
   "metadata": {},
   "source": [
    "#### Step 5: Insert Two New Employee Records"
   ]
  },
  {
   "cell_type": "code",
   "execution_count": 162,
   "id": "96acd4bd-082a-434d-8a6f-cf3f5df87bd4",
   "metadata": {},
   "outputs": [
    {
     "data": {
      "text/html": [
       "<div>\n",
       "<style scoped>\n",
       "    .dataframe tbody tr th:only-of-type {\n",
       "        vertical-align: middle;\n",
       "    }\n",
       "\n",
       "    .dataframe tbody tr th {\n",
       "        vertical-align: top;\n",
       "    }\n",
       "\n",
       "    .dataframe thead th {\n",
       "        text-align: right;\n",
       "    }\n",
       "</style>\n",
       "<table border=\"1\" class=\"dataframe\">\n",
       "  <thead>\n",
       "    <tr style=\"text-align: right;\">\n",
       "      <th></th>\n",
       "      <th>HospitalID</th>\n",
       "      <th>Name</th>\n",
       "      <th>Zip</th>\n",
       "      <th>TypeControl</th>\n",
       "      <th>Teaching</th>\n",
       "      <th>DonorType</th>\n",
       "      <th>FullTimeCount</th>\n",
       "      <th>NetPatientRevenue</th>\n",
       "      <th>InpatientOperExp</th>\n",
       "      <th>OutpatientOperExp</th>\n",
       "      <th>...</th>\n",
       "      <th>AvlBeds</th>\n",
       "      <th>LastName</th>\n",
       "      <th>FirstName</th>\n",
       "      <th>Gender</th>\n",
       "      <th>PositionTitle</th>\n",
       "      <th>Compensation</th>\n",
       "      <th>MaxTerm</th>\n",
       "      <th>StartDate</th>\n",
       "      <th>Phone</th>\n",
       "      <th>Email</th>\n",
       "    </tr>\n",
       "  </thead>\n",
       "  <tbody>\n",
       "    <tr>\n",
       "      <th>0</th>\n",
       "      <td>45740</td>\n",
       "      <td>Mammoth Hospital</td>\n",
       "      <td>93546-0660</td>\n",
       "      <td>District</td>\n",
       "      <td>Small/Rural</td>\n",
       "      <td>Charity</td>\n",
       "      <td>327.0</td>\n",
       "      <td>135520.2186</td>\n",
       "      <td>20523425.53</td>\n",
       "      <td>34916220.47</td>\n",
       "      <td>...</td>\n",
       "      <td>15</td>\n",
       "      <td>Web</td>\n",
       "      <td>David</td>\n",
       "      <td>M</td>\n",
       "      <td>Safety Inspection Member</td>\n",
       "      <td>23987</td>\n",
       "      <td>2</td>\n",
       "      <td>1/1/2012</td>\n",
       "      <td>785-532-2452</td>\n",
       "      <td>david.web@comenitymed.com</td>\n",
       "    </tr>\n",
       "    <tr>\n",
       "      <th>1</th>\n",
       "      <td>12145</td>\n",
       "      <td>Victor Valley Community Hospital</td>\n",
       "      <td>92392</td>\n",
       "      <td>Non Profit</td>\n",
       "      <td>Small/Rural</td>\n",
       "      <td>Charity</td>\n",
       "      <td>345.0</td>\n",
       "      <td>136156.6913</td>\n",
       "      <td>33447542.78</td>\n",
       "      <td>20348596.22</td>\n",
       "      <td>...</td>\n",
       "      <td>99</td>\n",
       "      <td>Rodriguez</td>\n",
       "      <td>Jose</td>\n",
       "      <td>M</td>\n",
       "      <td>Regional Representative</td>\n",
       "      <td>46978</td>\n",
       "      <td>4</td>\n",
       "      <td>1/1/2009</td>\n",
       "      <td>405-744-2238</td>\n",
       "      <td>jose.rodriguez@edihealth.com</td>\n",
       "    </tr>\n",
       "    <tr>\n",
       "      <th>2</th>\n",
       "      <td>25667</td>\n",
       "      <td>Pioneers Memorial Hospital</td>\n",
       "      <td>92227</td>\n",
       "      <td>District</td>\n",
       "      <td>Small/Rural</td>\n",
       "      <td>Charity</td>\n",
       "      <td>601.2</td>\n",
       "      <td>197094.2541</td>\n",
       "      <td>37254178.67</td>\n",
       "      <td>37832448.33</td>\n",
       "      <td>...</td>\n",
       "      <td>107</td>\n",
       "      <td>Adamson</td>\n",
       "      <td>David</td>\n",
       "      <td>M</td>\n",
       "      <td>Regional Representative</td>\n",
       "      <td>46978</td>\n",
       "      <td>4</td>\n",
       "      <td>1/1/2012</td>\n",
       "      <td>785-532-7573</td>\n",
       "      <td>david.adamson@txbiomed.net</td>\n",
       "    </tr>\n",
       "    <tr>\n",
       "      <th>3</th>\n",
       "      <td>46996</td>\n",
       "      <td>Ridgecrest Regional Hospital</td>\n",
       "      <td>93555</td>\n",
       "      <td>Non Profit</td>\n",
       "      <td>Small/Rural</td>\n",
       "      <td>Charity</td>\n",
       "      <td>400.0</td>\n",
       "      <td>139170.3798</td>\n",
       "      <td>23385570.10</td>\n",
       "      <td>24661355.90</td>\n",
       "      <td>...</td>\n",
       "      <td>55</td>\n",
       "      <td>Roberts</td>\n",
       "      <td>Melissa</td>\n",
       "      <td>F</td>\n",
       "      <td>Safety Inspection Member</td>\n",
       "      <td>23987</td>\n",
       "      <td>2</td>\n",
       "      <td>1/1/2009</td>\n",
       "      <td>785-532-9779</td>\n",
       "      <td>melissa.roberts@txbiomed.net</td>\n",
       "    </tr>\n",
       "    <tr>\n",
       "      <th>4</th>\n",
       "      <td>37393</td>\n",
       "      <td>Barstow Community Hospital</td>\n",
       "      <td>92311</td>\n",
       "      <td>Investor</td>\n",
       "      <td>Small/Rural</td>\n",
       "      <td>Charity</td>\n",
       "      <td>262.0</td>\n",
       "      <td>116797.8306</td>\n",
       "      <td>13684502.49</td>\n",
       "      <td>15159986.51</td>\n",
       "      <td>...</td>\n",
       "      <td>42</td>\n",
       "      <td>Iwata</td>\n",
       "      <td>Akira</td>\n",
       "      <td>M</td>\n",
       "      <td>Regional Representative</td>\n",
       "      <td>46978</td>\n",
       "      <td>4</td>\n",
       "      <td>1/1/2011</td>\n",
       "      <td>801-611-9161</td>\n",
       "      <td>akira.iwata@hsu.edu</td>\n",
       "    </tr>\n",
       "  </tbody>\n",
       "</table>\n",
       "<p>5 rows × 22 columns</p>\n",
       "</div>"
      ],
      "text/plain": [
       "   HospitalID                              Name         Zip TypeControl  \\\n",
       "0       45740                  Mammoth Hospital  93546-0660    District   \n",
       "1       12145  Victor Valley Community Hospital       92392  Non Profit   \n",
       "2       25667        Pioneers Memorial Hospital       92227    District   \n",
       "3       46996      Ridgecrest Regional Hospital       93555  Non Profit   \n",
       "4       37393        Barstow Community Hospital       92311    Investor   \n",
       "\n",
       "      Teaching DonorType  FullTimeCount  NetPatientRevenue  InpatientOperExp  \\\n",
       "0  Small/Rural   Charity          327.0        135520.2186       20523425.53   \n",
       "1  Small/Rural   Charity          345.0        136156.6913       33447542.78   \n",
       "2  Small/Rural   Charity          601.2        197094.2541       37254178.67   \n",
       "3  Small/Rural   Charity          400.0        139170.3798       23385570.10   \n",
       "4  Small/Rural   Charity          262.0        116797.8306       13684502.49   \n",
       "\n",
       "   OutpatientOperExp  ...  AvlBeds   LastName  FirstName Gender  \\\n",
       "0        34916220.47  ...       15        Web      David      M   \n",
       "1        20348596.22  ...       99  Rodriguez       Jose      M   \n",
       "2        37832448.33  ...      107    Adamson      David      M   \n",
       "3        24661355.90  ...       55    Roberts    Melissa      F   \n",
       "4        15159986.51  ...       42      Iwata      Akira      M   \n",
       "\n",
       "              PositionTitle Compensation MaxTerm  StartDate         Phone  \\\n",
       "0  Safety Inspection Member        23987       2   1/1/2012  785-532-2452   \n",
       "1   Regional Representative        46978       4   1/1/2009  405-744-2238   \n",
       "2   Regional Representative        46978       4   1/1/2012  785-532-7573   \n",
       "3  Safety Inspection Member        23987       2   1/1/2009  785-532-9779   \n",
       "4   Regional Representative        46978       4   1/1/2011  801-611-9161   \n",
       "\n",
       "                          Email  \n",
       "0     david.web@comenitymed.com  \n",
       "1  jose.rodriguez@edihealth.com  \n",
       "2    david.adamson@txbiomed.net  \n",
       "3  melissa.roberts@txbiomed.net  \n",
       "4           akira.iwata@hsu.edu  \n",
       "\n",
       "[5 rows x 22 columns]"
      ]
     },
     "execution_count": 162,
     "metadata": {},
     "output_type": "execute_result"
    }
   ],
   "source": [
    "hospital_data.shape\n",
    "hospital_data.head()"
   ]
  },
  {
   "cell_type": "code",
   "execution_count": 164,
   "id": "e5371491-5091-4154-a587-856b821c0c11",
   "metadata": {},
   "outputs": [],
   "source": [
    "new_employees = pd.DataFrame([\n",
    "    {\n",
    "        \"HospitalID\": hospital_data.iloc[0]['HospitalID'],\n",
    "        \"LastName\": \"Calderwood\",\n",
    "        \"FirstName\": \"Michelle\",\n",
    "        \"Gender\": \"F\",\n",
    "        \"PositionTitle\": \"Regional Representative\",\n",
    "        \"Compensation\": 46978,\n",
    "        \"MaxTerm\": 4,\n",
    "        \"StartDate\": datetime.today().strftime('%Y-%m-%d')\n",
    "    },\n",
    "    {\n",
    "        \"HospitalID\": hospital_data.iloc[1]['HospitalID'],\n",
    "        \"LastName\": \"Calderwood\",\n",
    "        \"FirstName\": \"Michelle\",\n",
    "        \"Gender\": \"F\",\n",
    "        \"PositionTitle\": \"State Board Representative\",\n",
    "        \"Compensation\": 89473,\n",
    "        \"MaxTerm\": 3,\n",
    "        \"StartDate\": datetime.today().strftime('%Y-%m-%d')\n",
    "    }\n",
    "])"
   ]
  },
  {
   "cell_type": "markdown",
   "id": "1a1992e0-3f56-46f1-9f45-2c789d7f46f8",
   "metadata": {},
   "source": [
    "#### Fill in missing columns from original DataFrame with dummy values or copy from existing rows"
   ]
  },
  {
   "cell_type": "code",
   "execution_count": 166,
   "id": "8bf7e3f2-450f-4707-aa46-0ca80dd7f274",
   "metadata": {},
   "outputs": [],
   "source": [
    "for col in hospital_data.columns:\n",
    "    if col not in new_employees.columns:\n",
    "        new_employees[col] = hospital_data[col].iloc[0]\n",
    "\n",
    "new_merge = pd.concat([hospital_data, new_employees], ignore_index=True)"
   ]
  },
  {
   "cell_type": "markdown",
   "id": "98ee8cd1-fa19-46e9-bd2a-daaa29716c0e",
   "metadata": {},
   "source": [
    "#### Step 6: Filtering Data"
   ]
  },
  {
   "cell_type": "code",
   "execution_count": 168,
   "id": "88cfb547-b299-4640-b0cb-e2c59584b543",
   "metadata": {},
   "outputs": [],
   "source": [
    "non_profit_filtered = new_merge[(new_merge['TypeControl'] == 'Non-Profit') & \n",
    "                                 (new_merge['FullTimeCount'] > 250) &\n",
    "                                 (new_merge['NetPatientRevenue'] >= 109000)].copy()\n",
    "\n",
    "non_profit_filtered = non_profit_filtered.drop(columns=[\n",
    "    'LastName', 'FirstName', 'Gender', 'PositionTitle', 'Compensation', 'MaxTerm', 'StartDate'])\n",
    "\n",
    "regional_reps = new_merge[(new_merge['PositionTitle'] == 'Regional Representative') &\n",
    "                          (new_merge['Operating_Income'] > 100000)].copy()"
   ]
  },
  {
   "cell_type": "markdown",
   "id": "acb94f00-a00b-4c20-97a2-015869e1350e",
   "metadata": {},
   "source": [
    "#### Step 7: Convert Dates and Confirm"
   ]
  },
  {
   "cell_type": "markdown",
   "id": "7d6c0fc9-4501-4ce8-b80c-6c55a909bcdb",
   "metadata": {},
   "source": [
    "Convert 'StartDate' to datetime, handling mixed formats and potential parsing errors"
   ]
  },
  {
   "cell_type": "code",
   "execution_count": 191,
   "id": "f6672f7d-ab54-4661-b984-e6666cbd48b8",
   "metadata": {},
   "outputs": [],
   "source": [
    "new_merge['StartDate'] = pd.to_datetime(new_merge['StartDate'], errors='coerce')"
   ]
  },
  {
   "cell_type": "markdown",
   "id": "86f0473e-28cf-4148-bb35-512676e27127",
   "metadata": {},
   "source": [
    "#### Confirm datatypes"
   ]
  },
  {
   "cell_type": "code",
   "execution_count": 197,
   "id": "dc1e217b-6cb1-4878-98fb-18a0a59f9d5c",
   "metadata": {},
   "outputs": [
    {
     "name": "stdout",
     "output_type": "stream",
     "text": [
      "datetime64[ns]\n",
      "0   2012-01-01\n",
      "1   2009-01-01\n",
      "2   2012-01-01\n",
      "3   2009-01-01\n",
      "4   2011-01-01\n",
      "Name: StartDate, dtype: datetime64[ns]\n"
     ]
    }
   ],
   "source": [
    "print(new_merge['StartDate'].dtypes)\n",
    "print(new_merge['StartDate'].head())"
   ]
  },
  {
   "cell_type": "markdown",
   "id": "9d9414e7-6f1c-4c73-94fa-7df4ba89202b",
   "metadata": {},
   "source": [
    "# References"
   ]
  },
  {
   "cell_type": "markdown",
   "id": "01897264-f256-4eb8-a068-35cb3aab4afb",
   "metadata": {},
   "source": [
    "- Instructor video walkthrough (Canvas, Week 7)  \n",
    "- pandas documentation: https://pandas.pydata.org/  \n",
    "- scikit-learn KFold: https://scikit-learn.org/stable/modules/generated/sklearn.model_selection.KFold.html  \n",
    "- ChatGPT support log: [Week07_HelperNotebook.ipynb](Week07_HelperNotebook.ipynb)"
   ]
  }
 ],
 "metadata": {
  "kernelspec": {
   "display_name": "Python [conda env:base] *",
   "language": "python",
   "name": "conda-base-py"
  },
  "language_info": {
   "codemirror_mode": {
    "name": "ipython",
    "version": 3
   },
   "file_extension": ".py",
   "mimetype": "text/x-python",
   "name": "python",
   "nbconvert_exporter": "python",
   "pygments_lexer": "ipython3",
   "version": "3.12.7"
  }
 },
 "nbformat": 4,
 "nbformat_minor": 5
}
